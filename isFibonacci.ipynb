{
 "cells": [
  {
   "cell_type": "code",
   "execution_count": null,
   "metadata": {},
   "outputs": [],
   "source": [
    "def isFibonacci(arr):\n",
    "    fib = [0, 1]\n",
    "    \n",
    "    while fib[-1] < arr:\n",
    "        fib.append(fib[-2]+fib[-1])\n",
    "    \n",
    "    if fib[-1] == arr:\n",
    "        print(\"Yes fibonacci number\")\n",
    "    else:\n",
    "        print(\"No fibonacci number\") "
   ]
  }
 ],
 "metadata": {
  "language_info": {
   "name": "python"
  },
  "orig_nbformat": 4
 },
 "nbformat": 4,
 "nbformat_minor": 2
}
