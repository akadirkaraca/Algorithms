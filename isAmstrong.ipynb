{
 "cells": [
  {
   "cell_type": "code",
   "execution_count": null,
   "metadata": {},
   "outputs": [],
   "source": [
    "def isAmstrong(num):\n",
    "    \n",
    "    num_str = str(num)\n",
    "    num_list = [int(i)**len(num_str) for i in num_str]\n",
    "    \n",
    "    if num == sum(num_list):\n",
    "        print(\"Yes! This number is amstrong number\")\n",
    "    else:\n",
    "        print(\"Unfortunately this number is not amstrong number\")"
   ]
  }
 ],
 "metadata": {
  "language_info": {
   "name": "python"
  },
  "orig_nbformat": 4
 },
 "nbformat": 4,
 "nbformat_minor": 2
}
